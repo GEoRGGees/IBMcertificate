{
 "cells": [
  {
   "cell_type": "markdown",
   "id": "5bc83534",
   "metadata": {},
   "source": [
    "# My Jupyter Notebook on IBM Watson Studio"
   ]
  },
  {
   "cell_type": "markdown",
   "id": "95251898",
   "metadata": {},
   "source": [
    "**Jorge Jesus Aguilar**\n",
    "\n",
    "Data scientist."
   ]
  },
  {
   "cell_type": "markdown",
   "id": "0c5d0f3a",
   "metadata": {},
   "source": [
    "*I'm interested in data science because I want a better job and because I like data-based decision making.*"
   ]
  },
  {
   "cell_type": "markdown",
   "id": "bc769ef5",
   "metadata": {},
   "source": [
    "### My code will display the square root"
   ]
  },
  {
   "cell_type": "code",
   "execution_count": 3,
   "id": "885d5791",
   "metadata": {},
   "outputs": [
    {
     "data": {
      "text/plain": [
       "7.0"
      ]
     },
     "execution_count": 3,
     "metadata": {},
     "output_type": "execute_result"
    }
   ],
   "source": [
    "import math\n",
    "math.sqrt(49)"
   ]
  },
  {
   "cell_type": "markdown",
   "id": "0bf764dd",
   "metadata": {},
   "source": [
    "1- ['Link to wikipedia'](https://www.wikipedia.org/)\n",
    "\n",
    "\n",
    "2- Wikipedia logo:\n",
    "![alt text](https://www.wikipedia.org/portal/wikipedia.org/assets/img/Wikipedia-logo-v2@1.5x.png)\n",
    "\n",
    "3- ~~Horizontal line on the middle of the text~~  "
   ]
  },
  {
   "cell_type": "code",
   "execution_count": null,
   "id": "f88f1820",
   "metadata": {},
   "outputs": [],
   "source": []
  }
 ],
 "metadata": {
  "kernelspec": {
   "display_name": "Python 3 (ipykernel)",
   "language": "python",
   "name": "python3"
  },
  "language_info": {
   "codemirror_mode": {
    "name": "ipython",
    "version": 3
   },
   "file_extension": ".py",
   "mimetype": "text/x-python",
   "name": "python",
   "nbconvert_exporter": "python",
   "pygments_lexer": "ipython3",
   "version": "3.11.0"
  }
 },
 "nbformat": 4,
 "nbformat_minor": 5
}
